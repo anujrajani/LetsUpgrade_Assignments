{
  "nbformat": 4,
  "nbformat_minor": 0,
  "metadata": {
    "colab": {
      "name": "Assignment3.ipynb",
      "provenance": []
    },
    "kernelspec": {
      "name": "python3",
      "display_name": "Python 3"
    }
  },
  "cells": [
    {
      "cell_type": "code",
      "metadata": {
        "id": "DrPk2mM8t0FD"
      },
      "source": [
        "import numpy as np"
      ],
      "execution_count": null,
      "outputs": []
    },
    {
      "cell_type": "code",
      "metadata": {
        "id": "z33gAIqdpWJU",
        "outputId": "7ebc7a25-885d-4faa-84f1-b0f8e4b2a876",
        "colab": {
          "base_uri": "https://localhost:8080/"
        }
      },
      "source": [
        "#Question 1- Create a numpy array starting from 2 till 50 with a stepsize of 3.\n",
        "arr= np.arange(2,51,3)\n",
        "print (arr)\n",
        "print(type(arr))"
      ],
      "execution_count": 3,
      "outputs": [
        {
          "output_type": "stream",
          "text": [
            "[ 2  5  8 11 14 17 20 23 26 29 32 35 38 41 44 47 50]\n",
            "<class 'numpy.ndarray'>\n"
          ],
          "name": "stdout"
        }
      ]
    },
    {
      "cell_type": "code",
      "metadata": {
        "id": "QwqW1TBZpmqH",
        "outputId": "533e30fa-ecd0-49f6-f6d6-1493e098e930",
        "colab": {
          "base_uri": "https://localhost:8080/"
        }
      },
      "source": [
        "#Question 2- Accept two lists of 5 elements each from the user.\n",
        "#            Convert them to numpy arrays. Concatenate these arrays and print it. Also sort these arrays and print it.\n",
        "\n",
        "list1=[]\n",
        "list2=[]\n",
        "\n",
        "print(\"Enter 5 elements for 1st list:\")\n",
        "for i in range(5):\n",
        "  num=int(input(\"Enter number:\"))\n",
        "  list1.append(num)\n",
        "\n",
        "print(\"\\nEnter 5 elements for 2nd list:\")\n",
        "for i in range(5):\n",
        "  num=int(input(\"Enter number:\"))\n",
        "  list2.append(num)\n",
        "\n",
        "arr1=np.array(list1)\n",
        "arr2=np.array(list2)\n",
        "\n",
        "print(\"\\narray 1:\",arr1)\n",
        "print(\"array 2:\",arr2)\n",
        "\n",
        "concatArray=np.concatenate((arr1,arr2))\n",
        "print(\"\\nConcatenated array:\",concatArray)\n",
        "print(\"Sorted Concatenated array:\",np.sort(concatArray))"
      ],
      "execution_count": 11,
      "outputs": [
        {
          "output_type": "stream",
          "text": [
            "Enter 5 elements for 1st list:\n",
            "Enter number:10\n",
            "Enter number:90\n",
            "Enter number:56\n",
            "Enter number:67\n",
            "Enter number:35\n",
            "\n",
            "Enter 5 elements for 2nd list:\n",
            "Enter number:19\n",
            "Enter number:9\n",
            "Enter number:64\n",
            "Enter number:53\n",
            "Enter number:78\n",
            "\n",
            "array 1: [10 90 56 67 35]\n",
            "array 2: [19  9 64 53 78]\n",
            "\n",
            "Concatenated array: [10 90 56 67 35 19  9 64 53 78]\n",
            "Sorted Concatenated array: [ 9 10 19 35 53 56 64 67 78 90]\n"
          ],
          "name": "stdout"
        }
      ]
    },
    {
      "cell_type": "code",
      "metadata": {
        "id": "ipxyqwS5tL0v",
        "outputId": "fdd5d5fe-b3a0-4881-95ae-3dac24e952e9",
        "colab": {
          "base_uri": "https://localhost:8080/"
        }
      },
      "source": [
        "#Question 3- Write a code snippet to find the dimensions of a ndarray and its size.\n",
        "arr3=np.array([[1,3,7],[9,6,5]])\n",
        "arr4=np.array([[[1,3,7],[9,6,5]],[[10,19,20],[29,16,15]]])\n",
        "\n",
        "print(\"Array 1:\\n\",arr3)\n",
        "print(\"\\nArray 2:\\n\",arr4)\n",
        "\n",
        "print(\"\\nArray 1 dimensions:\",arr3.ndim)\n",
        "print(\"Array 2 dimensions:\",arr4.ndim)\n",
        "\n",
        "print(\"\\nArray 1 size:\",arr3.size)\n",
        "print(\"Array 2 size:\",arr4.size)"
      ],
      "execution_count": 15,
      "outputs": [
        {
          "output_type": "stream",
          "text": [
            "Array 1:\n",
            " [[1 3 7]\n",
            " [9 6 5]]\n",
            "\n",
            "Array 2:\n",
            " [[[ 1  3  7]\n",
            "  [ 9  6  5]]\n",
            "\n",
            " [[10 19 20]\n",
            "  [29 16 15]]]\n",
            "\n",
            "Array 1 dimensions: 2\n",
            "Array 2 dimensions: 3\n",
            "\n",
            "Array 1 size: 6\n",
            "Array 2 size: 12\n"
          ],
          "name": "stdout"
        }
      ]
    },
    {
      "cell_type": "code",
      "metadata": {
        "id": "0qtjNqfUwTgO",
        "outputId": "2f4a382b-626b-4e3d-ac76-5032d3f5ac80",
        "colab": {
          "base_uri": "https://localhost:8080/"
        }
      },
      "source": [
        "#Question 4- How to convert a 1D array into a 2D array? Demonstrate with the help of a code snippet\n",
        "#            Hint: np.newaxis, np.expand_dims\n",
        "arr5=np.arange(12)\n",
        "print(\"Array:\",arr5)\n",
        "print(\"Array dimensions:\",arr5.ndim)\n",
        "print(\"Array shape:\",arr5.shape)\n",
        "\n",
        "#np.newaxis\n",
        "#Converting 1D array to row vector\n",
        "print(\"\\nConversion of 1D to 2D array using np.newaxis:\")\n",
        "rowVec_arr5 = arr5[np.newaxis, :]\n",
        "print(\"Dimensions of array post conversion to row vector:\",rowVec_arr5.ndim)\n",
        "print(\"Shape of array post conversion to row vector:\",rowVec_arr5.shape)\n",
        "\n",
        "#Converting 1D array to column vector\n",
        "colVec_arr5 = arr5[:, np.newaxis]\n",
        "print(\"\\nDimensions of array post conversion to column vector:\",colVec_arr5.ndim)\n",
        "print(\"Shape of array post conversion to column vector:\",colVec_arr5.shape)\n",
        "\n",
        "#np.expand_dims\n",
        "#Converting 1D array to row vector\n",
        "print(\"\\n\\nConversion of 1D to 2D array using np.expand_dims:\")\n",
        "rowVec1_arr5 = np.expand_dims(arr5, axis=0)\n",
        "print(\"Dimensions of array post conversion to row vector:\",rowVec1_arr5.ndim)\n",
        "print(\"Shape of array post conversion to row vector:\",rowVec1_arr5.shape)\n",
        "\n",
        "#Converting 1D array to column vector\n",
        "colVec1_arr5 = np.expand_dims(arr5, axis=1)\n",
        "print(\"\\nDimensions of array post conversion to column vector:\",colVec1_arr5.ndim)\n",
        "print(\"Shape of array post conversion to column vector:\",colVec1_arr5.shape)"
      ],
      "execution_count": 21,
      "outputs": [
        {
          "output_type": "stream",
          "text": [
            "Array: [ 0  1  2  3  4  5  6  7  8  9 10 11]\n",
            "Array dimensions: 1\n",
            "Array shape: (12,)\n",
            "\n",
            "Conversion of 1D to 2D array using np.newaxis:\n",
            "Dimensions of array post conversion to row vector: 2\n",
            "Shape of array post conversion to row vector: (1, 12)\n",
            "\n",
            "Dimensions of array post conversion to column vector: 2\n",
            "Shape of array post conversion to column vector: (12, 1)\n",
            "\n",
            "\n",
            "Conversion of 1D to 2D array using np.expand_dims:\n",
            "Dimensions of array post conversion to row vector: 2\n",
            "Shape of array post conversion to row vector: (1, 12)\n",
            "\n",
            "Dimensions of array post conversion to column vector: 2\n",
            "Shape of array post conversion to column vector: (12, 1)\n"
          ],
          "name": "stdout"
        }
      ]
    },
    {
      "cell_type": "code",
      "metadata": {
        "id": "EVPGCqf82sW7",
        "outputId": "342233b8-4078-47cc-fd8b-d58375548b3d",
        "colab": {
          "base_uri": "https://localhost:8080/"
        }
      },
      "source": [
        "#Question 5- Consider two square numpy arrays. Stack them vertically and horizontally.\n",
        "#            Hint: Use vstack(), hstack()\n",
        "\n",
        "# creating 2 arrays by squaring input values\n",
        "arr6 = np.square([1, 2, 5, 7, 8])\n",
        "arr7 = np.square([3, 4, 6, 9, 10])\n",
        "\n",
        "print(\"Array 1:\",arr6)\n",
        "print(\"Array 2:\",arr7)\n",
        "\n",
        "# stacking the squared arrays\n",
        "print(\"\\nHorizontal stacking:\", np.hstack((arr6, arr7)))\n",
        "print(\"Vertical stacking :\", np.vstack((arr6, arr7)))"
      ],
      "execution_count": 23,
      "outputs": [
        {
          "output_type": "stream",
          "text": [
            "Array 1: [ 1  4 25 49 64]\n",
            "Array 2: [  9  16  36  81 100]\n",
            "\n",
            "Horizontal stacking: [  1   4  25  49  64   9  16  36  81 100]\n",
            "Vertical stacking : [[  1   4  25  49  64]\n",
            " [  9  16  36  81 100]]\n"
          ],
          "name": "stdout"
        }
      ]
    },
    {
      "cell_type": "code",
      "metadata": {
        "id": "QTK80Pwp7MFV",
        "outputId": "e12ee2cb-e3d4-412b-fa2a-d6daa16fe542",
        "colab": {
          "base_uri": "https://localhost:8080/"
        }
      },
      "source": [
        "#Question6- How to get unique items and counts of unique items?\n",
        "arr8 = np.array( [12,12,25,12,18,25,12,18, 56,12,18,20] )\n",
        "print(\"Original array:\",arr8)\n",
        "#using unique method from numpy\n",
        "unique_ele, count_uniqueEle = np.unique(arr8, return_counts=True)\n",
        "print(\"\\nUnique Elements with frequency:\\n\",np.asarray((unique_ele, count_uniqueEle)).T)"
      ],
      "execution_count": 26,
      "outputs": [
        {
          "output_type": "stream",
          "text": [
            "Original array: [12 12 25 12 18 25 12 18 56 12 18 20]\n",
            "\n",
            "Unique Elements with frequency:\n",
            " [[12  5]\n",
            " [18  3]\n",
            " [20  1]\n",
            " [25  2]\n",
            " [56  1]]\n"
          ],
          "name": "stdout"
        }
      ]
    }
  ]
}