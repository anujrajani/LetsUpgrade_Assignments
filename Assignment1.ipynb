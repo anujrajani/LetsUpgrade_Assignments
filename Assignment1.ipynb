{
  "nbformat": 4,
  "nbformat_minor": 0,
  "metadata": {
    "colab": {
      "name": "Assignment1.ipynb",
      "provenance": [],
      "collapsed_sections": []
    },
    "kernelspec": {
      "name": "python3",
      "display_name": "Python 3"
    }
  },
  "cells": [
    {
      "cell_type": "code",
      "metadata": {
        "id": "5AItTytcJVdv",
        "outputId": "b3dee1e2-36d5-466e-9d6b-155edd1c3539",
        "colab": {
          "base_uri": "https://localhost:8080/"
        }
      },
      "source": [
        "#Question 1- Given the following jumbled word, OBANWRI guess the correct English word.\n",
        "#            A. RANIBOW\n",
        "#            B. RAINBOW\n",
        "#            C. BOWRANI\n",
        "#            D. ROBWANI\n",
        "\n",
        "print('RAINBOW')"
      ],
      "execution_count": null,
      "outputs": [
        {
          "output_type": "stream",
          "text": [
            "RAINBOW\n"
          ],
          "name": "stdout"
        }
      ]
    },
    {
      "cell_type": "code",
      "metadata": {
        "id": "PzvMsZC9JlP9",
        "outputId": "e9cc0e22-7a6c-47a2-cd6c-7a871bd2db73",
        "colab": {
          "base_uri": "https://localhost:8080/"
        }
      },
      "source": [
        "#Question 2- Write a program which prints “LETS UPGRADE”.\n",
        "print(\"LETS UPGRADE\")"
      ],
      "execution_count": null,
      "outputs": [
        {
          "output_type": "stream",
          "text": [
            "LETS UPGRADE\n"
          ],
          "name": "stdout"
        }
      ]
    },
    {
      "cell_type": "code",
      "metadata": {
        "id": "Goz0FNf7J2R8",
        "outputId": "e7da0a96-9514-48fc-b46a-31baf9da6250",
        "colab": {
          "base_uri": "https://localhost:8080/"
        }
      },
      "source": [
        "#Question 3- Write a program that takes cost price and selling price as input and displays whether the transaction is a\n",
        "#            Profit or a Loss or Neither.\n",
        "\n",
        "#Typecasting input to float so that both int and float values can work for inputs\n",
        "CostPrice=float(input())\n",
        "SellingPrice=float(input())\n",
        "\n",
        "if SellingPrice>CostPrice:\n",
        "  print(\"Profit\")\n",
        "elif SellingPrice<CostPrice:\n",
        "  print(\"Loss\")\n",
        "else:\n",
        "  print(\"Neither\")"
      ],
      "execution_count": null,
      "outputs": [
        {
          "output_type": "stream",
          "text": [
            "19\n",
            "95\n",
            "Profit\n"
          ],
          "name": "stdout"
        }
      ]
    },
    {
      "cell_type": "code",
      "metadata": {
        "id": "_2Ce4yeuKW4q",
        "outputId": "fc856647-ab64-45fd-d413-e6303bccec72",
        "colab": {
          "base_uri": "https://localhost:8080/"
        }
      },
      "source": [
        "#Question 4- Write a program that takes an amount in Euros as input. You need to find its equivalent in\n",
        "#            Rupees and display it. Assume 1 Euro equals Rs. 80.\n",
        "\n",
        "#Typecasting input to float here as it would allow both int and float values to be taken as input.\n",
        "#Typecasting output to int here because as per the sample test cases output is being represnted as an integer.\n",
        "euros=float(input())\n",
        "print(round(euros*80))"
      ],
      "execution_count": 4,
      "outputs": [
        {
          "output_type": "stream",
          "text": [
            "18\n",
            "1440\n"
          ],
          "name": "stdout"
        }
      ]
    }
  ]
}