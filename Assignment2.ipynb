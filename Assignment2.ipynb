{
  "nbformat": 4,
  "nbformat_minor": 0,
  "metadata": {
    "colab": {
      "name": "Assignment2.ipynb",
      "provenance": []
    },
    "kernelspec": {
      "name": "python3",
      "display_name": "Python 3"
    }
  },
  "cells": [
    {
      "cell_type": "code",
      "metadata": {
        "id": "WXaDWcCR6lVV",
        "outputId": "c05ce9bd-a96d-4be4-915a-360320c94aa3",
        "colab": {
          "base_uri": "https://localhost:8080/"
        }
      },
      "source": [
        "#Question 1- Create an empty list. Accept 10 numbers from the user and append it to the list if it is an even number.\n",
        "evenNumList=[]\n",
        "print(\"Enter 10 numbers:\")\n",
        "for i in range(0,10):\n",
        "  num=int(input(\"Enter number:\"))\n",
        "  if num%2==0:\n",
        "    evenNumList.append(num)\n",
        "\n",
        "print(\"\\nList of entered numbers which were even:\",evenNumList)"
      ],
      "execution_count": 17,
      "outputs": [
        {
          "output_type": "stream",
          "text": [
            "Enter 10 numbers:\n",
            "Enter number:1\n",
            "Enter number:2\n",
            "Enter number:3\n",
            "Enter number:5\n",
            "Enter number:4\n",
            "Enter number:6\n",
            "Enter number:18\n",
            "Enter number:20\n",
            "Enter number:22\n",
            "Enter number:23\n",
            "\n",
            "List of entered numbers which were even: [2, 4, 6, 18, 20, 22]\n"
          ],
          "name": "stdout"
        }
      ]
    },
    {
      "cell_type": "code",
      "metadata": {
        "id": "8BbciD1O7ctC",
        "outputId": "7bb219fd-1e1b-4bd6-bfa7-0d93522b0408",
        "colab": {
          "base_uri": "https://localhost:8080/"
        }
      },
      "source": [
        "#Question 2- LIST COMPREHENSION\n",
        "\n",
        "#multiplying each element from above created evenNumList which is divisible by 4, with 3\n",
        "newList=[item*3 for item in evenNumList if item%4==0]\n",
        "print(newList)"
      ],
      "execution_count": 18,
      "outputs": [
        {
          "output_type": "stream",
          "text": [
            "[12, 60]\n"
          ],
          "name": "stdout"
        }
      ]
    },
    {
      "cell_type": "code",
      "metadata": {
        "id": "wrwLs1gD9DvV",
        "outputId": "a0fd682b-cf4e-42b2-e89b-1059e4f2ff21",
        "colab": {
          "base_uri": "https://localhost:8080/"
        }
      },
      "source": [
        "#Question 3- Given a number n, write a program that generates a dictionary d which contains (i, i*i), where i is from 1 to n \n",
        "#            (both included). Then you have to just print this dictionary d.\n",
        "\n",
        "numKeys=int(input())\n",
        "dict={}\n",
        "for i in range(1,numKeys+1):\n",
        "  dict[i]=i*i\n",
        "\n",
        "print(dict)"
      ],
      "execution_count": 19,
      "outputs": [
        {
          "output_type": "stream",
          "text": [
            "8\n",
            "{1: 1, 2: 4, 3: 9, 4: 16, 5: 25, 6: 36, 7: 49, 8: 64}\n"
          ],
          "name": "stdout"
        }
      ]
    },
    {
      "cell_type": "code",
      "metadata": {
        "id": "1xDjCcacA-rW",
        "outputId": "c80cbe97-ef59-4c2a-f676-41022ec9fb68",
        "colab": {
          "base_uri": "https://localhost:8080/"
        }
      },
      "source": [
        "#Question 4- There is a robot which wants to go the charging point to charge itself. The robot moves in a 2-D plane from the original \n",
        "#            point (0,0). The robot can move toward UP, DOWN, LEFT and RIGHT with given steps.\n",
        "#            Write a program to compute the distance between the current position after a sequence of movement and original point. If the \n",
        "#            distance is a float, then just print the nearest integer (use round() function for that and then convert it into an integer).\n",
        "\n",
        "numDirections=int(input())\n",
        "travelCoord={'x':0,'y':0}\n",
        "\n",
        "for i in range(numDirections):\n",
        "  dir=input()\n",
        "  Instrctn=dir.split()\n",
        "  if Instrctn[0].lower()=='up':\n",
        "    travelCoord['y']+=int(Instrctn[1])\n",
        "  elif Instrctn[0].lower()=='down':\n",
        "    travelCoord['y']-=int(Instrctn[1])\n",
        "  elif Instrctn[0].lower()=='left':\n",
        "    travelCoord['x']-=int(Instrctn[1])\n",
        "  elif Instrctn[0].lower()=='right':\n",
        "    travelCoord['x']+=int(Instrctn[1])\n",
        "\n",
        "dist=round(pow((travelCoord['x']**2+travelCoord['y']**2),0.5))\n",
        "print(dist)\n"
      ],
      "execution_count": 15,
      "outputs": [
        {
          "output_type": "stream",
          "text": [
            "4\n",
            "UP 5\n",
            "DOWN 3\n",
            "LEFT 3\n",
            "RIGHT 2\n",
            "2\n"
          ],
          "name": "stdout"
        }
      ]
    }
  ]
}